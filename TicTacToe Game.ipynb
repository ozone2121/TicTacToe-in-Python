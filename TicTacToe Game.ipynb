{
 "cells": [
  {
   "cell_type": "code",
   "execution_count": 1,
   "id": "edf7aaf9",
   "metadata": {},
   "outputs": [
    {
     "name": "stdout",
     "output_type": "stream",
     "text": [
      "how are you doing\n"
     ]
    }
   ],
   "source": [
    "print('how are you doing')"
   ]
  },
  {
   "cell_type": "code",
   "execution_count": 2,
   "id": "6a4f8cd4",
   "metadata": {},
   "outputs": [
    {
     "name": "stdout",
     "output_type": "stream",
     "text": [
      "hey how is it going\n"
     ]
    }
   ],
   "source": [
    "print(\"hey how is it going\")"
   ]
  },
  {
   "cell_type": "code",
   "execution_count": 3,
   "id": "2f065dc9",
   "metadata": {},
   "outputs": [
    {
     "name": "stdout",
     "output_type": "stream",
     "text": [
      "are you even fine now \n"
     ]
    }
   ],
   "source": [
    "print('are you even fine now ')"
   ]
  },
  {
   "cell_type": "code",
   "execution_count": 4,
   "id": "3e5017a9",
   "metadata": {},
   "outputs": [],
   "source": [
    "from IPython.display import clear_output\n",
    "\n",
    "def display_board(board):\n",
    "    clear_output()  # Remember, this only works in jupyter!\n",
    "    \n",
    "    print('   |   |')\n",
    "    print(' ' + board[7] + ' | ' + board[8] + ' | ' + board[9])\n",
    "    print('   |   |')\n",
    "    print('-----------')\n",
    "    print('   |   |')\n",
    "    print(' ' + board[4] + ' | ' + board[5] + ' | ' + board[6])\n",
    "    print('   |   |')\n",
    "    print('-----------')\n",
    "    print('   |   |')\n",
    "    print(' ' + board[1] + ' | ' + board[2] + ' | ' + board[3])\n",
    "    print('   |   |')"
   ]
  },
  {
   "cell_type": "code",
   "execution_count": 5,
   "id": "15051439",
   "metadata": {},
   "outputs": [
    {
     "name": "stdout",
     "output_type": "stream",
     "text": [
      "   |   |\n",
      " X | O | X\n",
      "   |   |\n",
      "-----------\n",
      "   |   |\n",
      " O | X | O\n",
      "   |   |\n",
      "-----------\n",
      "   |   |\n",
      " X | O | X\n",
      "   |   |\n"
     ]
    }
   ],
   "source": [
    "test_board = ['#','X','O','X','O','X','O','X','O','X']\n",
    "display_board(test_board)"
   ]
  },
  {
   "cell_type": "code",
   "execution_count": 6,
   "id": "182b08e7",
   "metadata": {},
   "outputs": [],
   "source": [
    "def player_input():\n",
    "    marker = ''\n",
    "    \n",
    "    while not (marker == 'X' or marker == 'O'):\n",
    "        marker = input('Player 1: Do you want to be X or O? ').upper()\n",
    "\n",
    "    if marker == 'X':\n",
    "        return ('X', 'O')\n",
    "    else:\n",
    "        return ('O', 'X')\n",
    "    "
   ]
  },
  {
   "cell_type": "code",
   "execution_count": 7,
   "id": "450a8821",
   "metadata": {},
   "outputs": [
    {
     "ename": "NameError",
     "evalue": "name 'place_marker' is not defined",
     "output_type": "error",
     "traceback": [
      "\u001b[0;31m---------------------------------------------------------------------------\u001b[0m",
      "\u001b[0;31mNameError\u001b[0m                                 Traceback (most recent call last)",
      "Input \u001b[0;32mIn [7]\u001b[0m, in \u001b[0;36m<cell line: 1>\u001b[0;34m()\u001b[0m\n\u001b[0;32m----> 1\u001b[0m \u001b[43mplace_marker\u001b[49m(test_board,\u001b[38;5;124m'\u001b[39m\u001b[38;5;124m$\u001b[39m\u001b[38;5;124m'\u001b[39m,\u001b[38;5;241m8\u001b[39m)\n\u001b[1;32m      2\u001b[0m display_board(test_board)\n",
      "\u001b[0;31mNameError\u001b[0m: name 'place_marker' is not defined"
     ]
    }
   ],
   "source": [
    "place_marker(test_board,'$',8)\n",
    "display_board(test_board)"
   ]
  },
  {
   "cell_type": "code",
   "execution_count": 8,
   "id": "4a4e903b",
   "metadata": {},
   "outputs": [],
   "source": [
    "def place_marker(board, marker, position):\n",
    "    board[position] = marker\n"
   ]
  },
  {
   "cell_type": "code",
   "execution_count": 9,
   "id": "ba1d0f80",
   "metadata": {},
   "outputs": [
    {
     "name": "stdout",
     "output_type": "stream",
     "text": [
      "   |   |\n",
      " X | $ | X\n",
      "   |   |\n",
      "-----------\n",
      "   |   |\n",
      " O | X | O\n",
      "   |   |\n",
      "-----------\n",
      "   |   |\n",
      " X | O | X\n",
      "   |   |\n"
     ]
    }
   ],
   "source": [
    "place_marker(test_board,'$',8)\n",
    "display_board(test_board)"
   ]
  },
  {
   "cell_type": "code",
   "execution_count": 10,
   "id": "bd6f4e38",
   "metadata": {},
   "outputs": [],
   "source": [
    "def win_check(board,mark):\n",
    "    \n",
    "    return ((board[7] == mark and board[8] == mark and board[9] == mark) or # across the top\n",
    "    (board[4] == mark and board[5] == mark and board[6] == mark) or # across the middle\n",
    "    (board[1] == mark and board[2] == mark and board[3] == mark) or # across the bottom\n",
    "    (board[7] == mark and board[4] == mark and board[1] == mark) or # down the middle\n",
    "    (board[8] == mark and board[5] == mark and board[2] == mark) or # down the middle\n",
    "    (board[9] == mark and board[6] == mark and board[3] == mark) or # down the right side\n",
    "    (board[7] == mark and board[5] == mark and board[3] == mark) or # diagonal\n",
    "    (board[9] == mark and board[5] == mark and board[1] == mark)) # diagonal"
   ]
  },
  {
   "cell_type": "code",
   "execution_count": 11,
   "id": "1f4b3ec5",
   "metadata": {},
   "outputs": [
    {
     "data": {
      "text/plain": [
       "True"
      ]
     },
     "execution_count": 11,
     "metadata": {},
     "output_type": "execute_result"
    }
   ],
   "source": [
    "win_check(test_board,'X')"
   ]
  },
  {
   "cell_type": "code",
   "execution_count": 12,
   "id": "3ebad44c",
   "metadata": {},
   "outputs": [
    {
     "name": "stdout",
     "output_type": "stream",
     "text": [
      "   |   |\n",
      " X | $ | X\n",
      "   |   |\n",
      "-----------\n",
      "   |   |\n",
      " O | X | O\n",
      "   |   |\n",
      "-----------\n",
      "   |   |\n",
      " X | O | X\n",
      "   |   |\n"
     ]
    }
   ],
   "source": [
    "display_board(test_board)"
   ]
  },
  {
   "cell_type": "code",
   "execution_count": 13,
   "id": "fea0fac3",
   "metadata": {},
   "outputs": [
    {
     "data": {
      "text/plain": [
       "False"
      ]
     },
     "execution_count": 13,
     "metadata": {},
     "output_type": "execute_result"
    }
   ],
   "source": [
    "win_check(test_board, \"O\")"
   ]
  },
  {
   "cell_type": "code",
   "execution_count": 14,
   "id": "dea53bc3",
   "metadata": {},
   "outputs": [],
   "source": [
    "import random \n",
    "\n",
    "def choose_first():\n",
    "    if random.randint(0,1) == 0:\n",
    "        return 'Player 1'\n",
    "    else:\n",
    "        return 'Player 2'"
   ]
  },
  {
   "cell_type": "code",
   "execution_count": 15,
   "id": "1244252d",
   "metadata": {},
   "outputs": [],
   "source": [
    "def space_check(board,position):\n",
    "    return board[position] == ' '"
   ]
  },
  {
   "cell_type": "code",
   "execution_count": 17,
   "id": "8f4731a4",
   "metadata": {},
   "outputs": [],
   "source": [
    "def full_board_check(board):\n",
    "    \n",
    "    for i in range(1,10):\n",
    "        if space_check(board,i):\n",
    "            return False\n",
    "    return True"
   ]
  },
  {
   "cell_type": "code",
   "execution_count": 19,
   "id": "92507f6a",
   "metadata": {},
   "outputs": [],
   "source": [
    "def player_choice(board):\n",
    "    \n",
    "    position = 0\n",
    "    \n",
    "    while position not in [1,2,3,4,5,6,7,8,9] or not space_check(board, position):\n",
    "        position = int(input('Choose a position (1-9): '))\n",
    "        \n",
    "    return position"
   ]
  },
  {
   "cell_type": "code",
   "execution_count": 20,
   "id": "0e29fb7f",
   "metadata": {},
   "outputs": [],
   "source": [
    "def replay():\n",
    "    \n",
    "    choice = input(\"Play again? Enter Yes or No: \")\n",
    "    \n",
    "    return choice == Yes\n"
   ]
  },
  {
   "cell_type": "code",
   "execution_count": null,
   "id": "140cd3b7",
   "metadata": {},
   "outputs": [
    {
     "name": "stdout",
     "output_type": "stream",
     "text": [
      "   |   |\n",
      " O | X | O\n",
      "   |   |\n",
      "-----------\n",
      "   |   |\n",
      " O | O | X\n",
      "   |   |\n",
      "-----------\n",
      "   |   |\n",
      " X | O | X\n",
      "   |   |\n",
      "The game is tied\n"
     ]
    }
   ],
   "source": [
    "print(\"Welcome to Tic Tac Toe\")\n",
    "\n",
    "while True:\n",
    "    the_board = [' ']*10\n",
    "    player1_marker, player2_marker = player_input()\n",
    "    \n",
    "    turn = choose_first()\n",
    "    print(turn + ' will go first')\n",
    "    \n",
    "    if input('Ready to play? y or n?').lower() == 'y':\n",
    "        game_on = True\n",
    "    else:\n",
    "        game_on = False\n",
    "        \n",
    "    \n",
    "    while game_on:\n",
    "        \n",
    "        if turn == 'Player 1':\n",
    "            #display the board\n",
    "            display_board(the_board)\n",
    "            # choose a position\n",
    "            position = player_choice(the_board)\n",
    "            \n",
    "            #place the marker on the position\n",
    "            place_marker(the_board, player1_marker, position)\n",
    "            \n",
    "            #check if they won\n",
    "            if win_check(the_board, player1_marker):\n",
    "                display_board(the_board)\n",
    "                print('Player 1 has won!!')\n",
    "                game_on = False\n",
    "            elif full_board_check(the_board):\n",
    "                display_board(the_board)\n",
    "                print(\"The game is tied\")\n",
    "                game_on = False\n",
    "            \n",
    "            else:\n",
    "                \n",
    "                turn = 'Player 2'\n",
    "        else:\n",
    "             #display the board\n",
    "            display_board(the_board)\n",
    "            # choose a position\n",
    "            position = player_choice(the_board)\n",
    "            \n",
    "            #place the marker on the position\n",
    "            place_marker(the_board, player2_marker, position)\n",
    "            \n",
    "            #check if they won\n",
    "            if win_check(the_board, player2_marker):\n",
    "                display_board(the_board)\n",
    "                print('Player 2 has won!!')\n",
    "                game_on = False\n",
    "            elif full_board_check(the_board):\n",
    "                display_board(the_board)\n",
    "                print(\"The game is tied\")\n",
    "                game_on = False\n",
    "            else: \n",
    "                turn = 'Player 1'\n"
   ]
  },
  {
   "cell_type": "code",
   "execution_count": null,
   "id": "f64c0689",
   "metadata": {},
   "outputs": [],
   "source": []
  }
 ],
 "metadata": {
  "kernelspec": {
   "display_name": "Python 3 (ipykernel)",
   "language": "python",
   "name": "python3"
  },
  "language_info": {
   "codemirror_mode": {
    "name": "ipython",
    "version": 3
   },
   "file_extension": ".py",
   "mimetype": "text/x-python",
   "name": "python",
   "nbconvert_exporter": "python",
   "pygments_lexer": "ipython3",
   "version": "3.9.12"
  }
 },
 "nbformat": 4,
 "nbformat_minor": 5
}
